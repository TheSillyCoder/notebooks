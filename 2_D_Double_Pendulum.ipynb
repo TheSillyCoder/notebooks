{
 "cells": [
  {
   "cell_type": "markdown",
   "metadata": {},
   "source": [
    "# 2-D Double Pendulum\n",
    "To simulate a double pendulum, we are going to first determine the equations of motion. We define the positions of the bobs in the pendulum using the angles the rods make with the y-axis, namely $\\theta_1$ and $\\theta_2$.\n",
    "\n",
    "We take the length of the pendulums as $L_1$ and $L_2$, and masses of the bobs to be $m_1$ and $m_2$."
   ]
  },
  {
   "cell_type": "code",
   "execution_count": 1,
   "metadata": {
    "id": "7n9pgGYYYbdV"
   },
   "outputs": [],
   "source": [
    "import numpy as np\n",
    "import sympy as smp\n",
    "from scipy.integrate import odeint\n",
    "import matplotlib.pyplot as plt\n",
    "from matplotlib import animation"
   ]
  },
  {
   "cell_type": "code",
   "execution_count": 2,
   "metadata": {
    "id": "7IB9kMYdYwAy"
   },
   "outputs": [],
   "source": [
    "t, g = smp.symbols('t g')\n",
    "m1, m2 = smp.symbols('m_1 m_2')\n",
    "L1, L2 = smp.symbols('L_1 L_2')"
   ]
  },
  {
   "cell_type": "code",
   "execution_count": 3,
   "metadata": {
    "id": "dzvTM7u9ZJ-S"
   },
   "outputs": [],
   "source": [
    "the1, the2 = smp.symbols(r'\\theta_1 \\theta_2' , cls=smp.Function)"
   ]
  },
  {
   "cell_type": "code",
   "execution_count": 4,
   "metadata": {
    "id": "qAS2xRUiZrAH"
   },
   "outputs": [],
   "source": [
    "the1 = the1(t)\n",
    "the2 = the2(t)"
   ]
  },
  {
   "cell_type": "code",
   "execution_count": 5,
   "metadata": {
    "id": "JmfFCGeJafo7"
   },
   "outputs": [],
   "source": [
    "the1_d = smp.diff(the1, t)\n",
    "the2_d = smp.diff(the2, t)\n",
    "the1_dd = smp.diff(the1_d, t)\n",
    "the2_dd = smp.diff(the2_d, t)"
   ]
  },
  {
   "cell_type": "markdown",
   "metadata": {},
   "source": [
    "One can use some simple geometry to find, \n",
    "$$\\begin{align*}\n",
    "&x_1 = L_1 \\sin \\theta_1 \\\\\n",
    "&y_1 = - L_1 \\cos \\theta_1 \\\\\n",
    "&x_2 = x_1 + L_2 \\sin \\theta_2 \\\\\n",
    "&y_2 = y_1 - L_2 \\cos \\theta_2\n",
    "\\end{align*}$$\n",
    "\n",
    "Where $(x_1, y_1)$ and $(x_2, y_2)$ are the coordinates of the bobs of the pendulums in cartesian coordinate system."
   ]
  },
  {
   "cell_type": "code",
   "execution_count": 6,
   "metadata": {
    "id": "cgTe5qieanqT"
   },
   "outputs": [],
   "source": [
    "x1 = L1 * smp.sin(the1)\n",
    "y1 = - L1 * smp.cos(the1)\n",
    "x2 = L2 * smp.sin(the2) + x1\n",
    "y2 = - L2 * smp.cos(the2) + y1"
   ]
  },
  {
   "cell_type": "code",
   "execution_count": 7,
   "metadata": {
    "id": "om8tt2cMb3lk"
   },
   "outputs": [],
   "source": [
    "x1_f = smp.lambdify((the1, the2, L1, L2), x1)\n",
    "y1_f = smp.lambdify((the1, the2, L1, L2), y1)\n",
    "x2_f = smp.lambdify((the1, the2, L1, L2), x2)\n",
    "y2_f = smp.lambdify((the1, the2, L1, L2), y2)"
   ]
  },
  {
   "cell_type": "markdown",
   "metadata": {},
   "source": [
    "Now, we compute the energies and thus obtain the lagrangian."
   ]
  },
  {
   "cell_type": "code",
   "execution_count": 8,
   "metadata": {
    "colab": {
     "base_uri": "https://localhost:8080/",
     "height": 401
    },
    "id": "5fASzbEHcbd-",
    "outputId": "969be03b-ab49-4594-fe2f-fe78ef98513c"
   },
   "outputs": [],
   "source": [
    "T1 = 1/2 * m1 * (smp.diff(x1, t)**2 + smp.diff(y1, t)**2)\n",
    "T2 = 1/2 * m2 * (smp.diff(x2, t)**2 + smp.diff(y2, t)**2)\n",
    "T = T1 + T2\n",
    "V1 = m1*g*y1\n",
    "V2 = m2*g*y2\n",
    "V = V1 + V2\n",
    "L = T-V"
   ]
  },
  {
   "cell_type": "markdown",
   "metadata": {},
   "source": [
    "Now, we write the Euler-Lagrange equations to obtain the equations of motion"
   ]
  },
  {
   "cell_type": "code",
   "execution_count": 9,
   "metadata": {
    "id": "mpNreZntdaAc"
   },
   "outputs": [],
   "source": [
    "LE1 = smp.diff(L, the1) - smp.diff(smp.diff(L, the1_d), t).simplify()\n",
    "LE2 = smp.diff(L, the2) - smp.diff(smp.diff(L, the2_d), t).simplify()"
   ]
  },
  {
   "cell_type": "code",
   "execution_count": 10,
   "metadata": {
    "id": "m9QLvZLgeNa8"
   },
   "outputs": [],
   "source": [
    "sols = smp.solve([LE1, LE2],(the1_dd, the2_dd), simplify=False, rational=False)"
   ]
  },
  {
   "cell_type": "markdown",
   "metadata": {},
   "source": [
    "Now, we have two equations of motion of the form \n",
    "$$\\frac{d^2\\theta_1}{dt^2} = f(t, g, m_1, m_2, L_1, L_2, \\dot{\\theta_1},\\dot{\\theta_1}, \\theta_1, \\theta_2)$$\n",
    "$$\\frac{d^2\\theta_2}{dt^2} = g(t, g, m_1, m_2, L_1, L_2, \\dot{\\theta_1},\\dot{\\theta_1}, \\theta_1, \\theta_2)$$"
   ]
  },
  {
   "cell_type": "code",
   "execution_count": 11,
   "metadata": {
    "colab": {
     "base_uri": "https://localhost:8080/",
     "height": 446
    },
    "id": "q4_OS1DRfGO1",
    "outputId": "8d58f706-406d-4c97-9ee1-d6697a22ec75"
   },
   "outputs": [],
   "source": [
    "du1dt_f = smp.lambdify((t, g, m1, m2, L1, L2, the1_d, the2_d, the1, the2), sols[the1_dd])\n",
    "du2dt_f = smp.lambdify((t, g, m1, m2, L1, L2, the1_d, the2_d, the1, the2), sols[the2_dd])\n",
    "dthe1dt_f = smp.lambdify(the1_d, the1_d)\n",
    "dthe2dt_f = smp.lambdify(the2_d, the2_d)"
   ]
  },
  {
   "cell_type": "markdown",
   "metadata": {},
   "source": [
    "Now, we set the physical parameters and proceed by solving the two differential equations numerically"
   ]
  },
  {
   "cell_type": "code",
   "execution_count": 12,
   "metadata": {},
   "outputs": [],
   "source": [
    "L1 = 1\n",
    "L2 = 1\n",
    "m1 = 1\n",
    "m2 = 1\n",
    "g = 9.81\n",
    "Y_0 = [1,-2,1.01,-4]"
   ]
  },
  {
   "cell_type": "markdown",
   "metadata": {},
   "source": [
    "Since python can't solve second order differential equations, we shall use a system of first order equations to solve for $\\theta_1(t)$ and $\\theta_2(t)$. We do this, by defining $u_1 = \\dot{\\theta_1}$ and $u_2 = \\dot{\\theta_2}$"
   ]
  },
  {
   "cell_type": "code",
   "execution_count": 13,
   "metadata": {
    "id": "A7WvispRrGtQ"
   },
   "outputs": [],
   "source": [
    "def dSdt(S, t):\n",
    "    the1, u1, the2, u2 = S\n",
    "    return [\n",
    "        dthe1dt_f(u1),\n",
    "        du1dt_f(t, g, m1, m2, L1, L2, u1, u2, the1, the2),\n",
    "        dthe2dt_f(u2),\n",
    "        du2dt_f(t, g, m1, m2, L1, L2, u1, u2, the1, the2),\n",
    "    ]"
   ]
  },
  {
   "cell_type": "code",
   "execution_count": 14,
   "metadata": {
    "id": "yymQKp9submJ"
   },
   "outputs": [],
   "source": [
    "t = np.linspace(0, 50, 1000)"
   ]
  },
  {
   "cell_type": "code",
   "execution_count": 15,
   "metadata": {
    "colab": {
     "base_uri": "https://localhost:8080/",
     "height": 314
    },
    "id": "6QmuxpFiujr7",
    "outputId": "456a86c0-da55-4aa1-cc6a-9474613a0226"
   },
   "outputs": [],
   "source": [
    "sol = odeint(dSdt, y0=Y_0, t=t)"
   ]
  },
  {
   "cell_type": "code",
   "execution_count": 16,
   "metadata": {
    "id": "Q-3zgsvfvXPU"
   },
   "outputs": [],
   "source": [
    "theta1 = sol.T[0]\n",
    "theta2 = sol.T[2]"
   ]
  },
  {
   "cell_type": "markdown",
   "metadata": {},
   "source": [
    "After obtaining the solutions, we convert them into cartesian-coordinates using the functions we defined a while back"
   ]
  },
  {
   "cell_type": "code",
   "execution_count": 17,
   "metadata": {},
   "outputs": [],
   "source": [
    "x1 = x1_f(theta1, theta2, L1, L2)\n",
    "y1 = y1_f(theta1, theta2, L1, L2)\n",
    "x2 = x2_f(theta1, theta2, L1, L2)\n",
    "y2 = y2_f(theta1, theta2, L1, L2)"
   ]
  },
  {
   "cell_type": "markdown",
   "metadata": {},
   "source": [
    "And now, we animate the double pendulum"
   ]
  },
  {
   "cell_type": "code",
   "execution_count": 18,
   "metadata": {},
   "outputs": [
    {
     "data": {
      "image/png": "[encoded data removed]",
      "text/plain": [
       "<Figure size 800x800 with 1 Axes>"
      ]
     },
     "metadata": {},
     "output_type": "display_data"
    }
   ],
   "source": [
    "def animate(i):\n",
    "    ln1.set_data([0, x1[i], x2[i]],[0, y1[i], y2[i]])\n",
    "fig,ax = plt.subplots(1,1, figsize=(8,8))\n",
    "ax.grid()\n",
    "ln1, = plt.plot([],[], 'ro-', lw=3, markersize=8)\n",
    "ax.set_ylim(-2.5,2.5)\n",
    "ax.set_xlim(-2.5,2.5)\n",
    "ani = animation.FuncAnimation(fig, animate, frames=1000, interval=50)\n",
    "ani.save('double_pendulum.gif', writer='pillow', fps=30)"
   ]
  }
 ],
 "metadata": {
  "accelerator": "GPU",
  "colab": {
   "gpuType": "T4",
   "provenance": []
  },
  "gpuClass": "standard",
  "kernelspec": {
   "display_name": "Python 3 (ipykernel)",
   "language": "python",
   "name": "python3"
  },
  "language_info": {
   "codemirror_mode": {
    "name": "ipython",
    "version": 3
   },
   "file_extension": ".py",
   "mimetype": "text/x-python",
   "name": "python",
   "nbconvert_exporter": "python",
   "pygments_lexer": "ipython3",
   "version": "3.10.6"
  }
 },
 "nbformat": 4,
 "nbformat_minor": 1
}
