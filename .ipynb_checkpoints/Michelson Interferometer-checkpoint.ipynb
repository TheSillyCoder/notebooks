{
 "cells": [
  {
   "cell_type": "code",
   "execution_count": 1,
   "id": "a39928a1",
   "metadata": {},
   "outputs": [],
   "source": [
    "import numpy as np"
   ]
  },
  {
   "cell_type": "code",
   "execution_count": 2,
   "id": "d61b14ca",
   "metadata": {},
   "outputs": [],
   "source": [
    "fh = open(\"michelson_data.txt\", \"r\")\n",
    "data = np.array([np.array(list(map(int,line.split()))) for line in fh.read().splitlines()])\n",
    "avg_dat = np.array([np.append(data[i],np.average(data[i][1:])) for i in range(len(data[0:,]))])\n",
    "fh.close()"
   ]
  },
  {
   "cell_type": "markdown",
   "id": "a1540df0",
   "metadata": {},
   "source": [
    "### Apparatus\n",
    "A laser of wavelength 535 nm has been used in the interferometer, and the thickness of the glass slab used for measuring the refractive index is 1 mm."
   ]
  },
  {
   "cell_type": "code",
   "execution_count": 3,
   "id": "5f2a0c32",
   "metadata": {},
   "outputs": [],
   "source": [
    "t = 1e-3\n",
    "wv_l = 535e-9"
   ]
  },
  {
   "cell_type": "markdown",
   "id": "f4bab260",
   "metadata": {},
   "source": [
    "### Calculation of Refractive Index\n",
    "\n",
    "The refractive index can be caculated using the angle of incidence ($\\theta$) and the fringe shifts ($m$) using the following formula :\n",
    "$$\\boxed{n_g = \\cfrac{(1 - \\cos\\theta)\\left(1 - \\cfrac{m\\lambda}{2t}\\right)}{(1 - \\cos{\\theta}) - \\cfrac{m\\lambda}{2t}}}$$\n",
    "\n",
    "Where $t$ is the thickness of the glass slab used, and $\\lambda$ is the wavelength of the laser."
   ]
  },
  {
   "cell_type": "code",
   "execution_count": 4,
   "id": "3844af39",
   "metadata": {},
   "outputs": [
    {
     "data": {
      "text/plain": [
       "array([1.53531693, 1.56768698, 1.54630682, 1.50690853])"
      ]
     },
     "execution_count": 4,
     "metadata": {},
     "output_type": "execute_result"
    }
   ],
   "source": [
    "n_g = (1 - np.cos(avg_dat[:,11]*np.pi / 180))*(1 - ((avg_dat[:,0]*wv_l)/(2*t))) / ((1 - np.cos(avg_dat[:,11]*np.pi / 180)) - ((avg_dat[:,0]*wv_l)/(2*t)))\n",
    "n_g"
   ]
  },
  {
   "cell_type": "markdown",
   "id": "b2c3d665",
   "metadata": {},
   "source": [
    "### Calculated refractive index of glass for diffirent fringe shifts\n",
    "\n",
    "\n",
    "| Fringe Shifts| Avg. angle of incidence |Calculated refractive index|\n",
    "|:---:|:---:|:---:|\n",
    "| 20 | 10 | 1.54 |\n",
    "| 30 | 12 | 1.57 |\n",
    "| 40 | 14 | 1.55 |\n",
    "| 50 | 16 | 1.51 |"
   ]
  },
  {
   "cell_type": "code",
   "execution_count": 5,
   "id": "918a9bad",
   "metadata": {},
   "outputs": [
    {
     "name": "stdout",
     "output_type": "stream",
     "text": [
      "1.5390548143926375 0.02190746237649228\n"
     ]
    }
   ],
   "source": [
    "print(np.average(n_g), np.std(n_g))"
   ]
  },
  {
   "cell_type": "markdown",
   "id": "42894e5e",
   "metadata": {},
   "source": [
    "The value of the refractive index of glass thus obtained is $\\boxed{1.53 \\pm 0.02}$"
   ]
  }
 ],
 "metadata": {
  "kernelspec": {
   "display_name": "Python 3 (ipykernel)",
   "language": "python",
   "name": "python3"
  },
  "language_info": {
   "codemirror_mode": {
    "name": "ipython",
    "version": 3
   },
   "file_extension": ".py",
   "mimetype": "text/x-python",
   "name": "python",
   "nbconvert_exporter": "python",
   "pygments_lexer": "ipython3",
   "version": "3.11.4"
  }
 },
 "nbformat": 4,
 "nbformat_minor": 5
}
