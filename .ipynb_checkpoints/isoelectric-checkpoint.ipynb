{
 "cells": [
  {
   "cell_type": "code",
   "execution_count": 1,
   "id": "43338902",
   "metadata": {},
   "outputs": [],
   "source": [
    "import numpy as np\n",
    "import matplotlib.pyplot as plt\n",
    "from scipy.optimize import curve_fit"
   ]
  },
  {
   "cell_type": "code",
   "execution_count": 23,
   "id": "97863eae",
   "metadata": {},
   "outputs": [],
   "source": [
    "data_file = open('iso_data.txt', 'r')"
   ]
  },
  {
   "cell_type": "code",
   "execution_count": 24,
   "id": "384cc212",
   "metadata": {},
   "outputs": [],
   "source": [
    "rows = data_file.readlines()"
   ]
  },
  {
   "cell_type": "code",
   "execution_count": 26,
   "id": "3d1b485a",
   "metadata": {},
   "outputs": [],
   "source": [
    "data_init = [row.split('\\t') for row in rows]"
   ]
  },
  {
   "cell_type": "code",
   "execution_count": 27,
   "id": "263beeaf",
   "metadata": {},
   "outputs": [
    {
     "ename": "SyntaxError",
     "evalue": "invalid syntax (<string>, line 0)",
     "output_type": "error",
     "traceback": [
      "Traceback \u001b[0;36m(most recent call last)\u001b[0m:\n",
      "\u001b[0m  File \u001b[1;32m~/.local/lib/python3.10/site-packages/IPython/core/interactiveshell.py:3508\u001b[0m in \u001b[1;35mrun_code\u001b[0m\n    exec(code_obj, self.user_global_ns, self.user_ns)\u001b[0m\n",
      "\u001b[0;36m  Cell \u001b[0;32mIn[27], line 5\u001b[0;36m\n\u001b[0;31m    data[2].append(eval(data_init[i][2].strip()))\u001b[0;36m\n",
      "\u001b[0;36m  File \u001b[0;32m<string>\u001b[0;36m\u001b[0m\n\u001b[0;31m    \u001b[0m\n\u001b[0m    ^\u001b[0m\n\u001b[0;31mSyntaxError\u001b[0m\u001b[0;31m:\u001b[0m invalid syntax\n"
     ]
    }
   ],
   "source": []
  },
  {
   "cell_type": "code",
   "execution_count": 33,
   "id": "1690147c",
   "metadata": {},
   "outputs": [],
   "source": [
    "data = [[],[],[]]\n",
    "for i in range(len(data_init)):\n",
    "    data[0].append(data_init[i][0].strip())\n",
    "    data[1]ppend(data_init[i][0].strip())\n",
    "    data[0].append(data_init[i][0].strip())"
   ]
  },
  {
   "cell_type": "code",
   "execution_count": 34,
   "id": "ab2eee63",
   "metadata": {},
   "outputs": [
    {
     "data": {
      "text/plain": [
       "['0',\n",
       " '0.5',\n",
       " '1',\n",
       " '1.5',\n",
       " '2',\n",
       " '2.5',\n",
       " '3',\n",
       " '3.5',\n",
       " '4',\n",
       " '4.5',\n",
       " '5',\n",
       " '5.5',\n",
       " '6',\n",
       " '6.5',\n",
       " '7',\n",
       " '7.5',\n",
       " '8',\n",
       " '8.1',\n",
       " '8.2',\n",
       " '8.3',\n",
       " '8.4',\n",
       " '8.5',\n",
       " '8.6',\n",
       " '8.7',\n",
       " '8.8',\n",
       " '8.9',\n",
       " '9',\n",
       " '9.1',\n",
       " '9.3',\n",
       " '9.4',\n",
       " '9.5',\n",
       " '9.6',\n",
       " '9.7',\n",
       " '9.8',\n",
       " '10',\n",
       " '10.1',\n",
       " '10.2',\n",
       " '10.3',\n",
       " '10.4',\n",
       " '10.5',\n",
       " '10.6',\n",
       " '10.7',\n",
       " '10.8',\n",
       " '10.9',\n",
       " '11',\n",
       " '11.1',\n",
       " '11.2',\n",
       " '11.3',\n",
       " '11.4',\n",
       " '11.5',\n",
       " '11.6',\n",
       " '11.7',\n",
       " '11.8',\n",
       " '11.9',\n",
       " '12',\n",
       " '12.2',\n",
       " '12.4',\n",
       " '12.6',\n",
       " '12.8',\n",
       " '13',\n",
       " '13.2',\n",
       " '13.4',\n",
       " '13.7',\n",
       " '14',\n",
       " '14.5',\n",
       " '15',\n",
       " '15.5',\n",
       " '16',\n",
       " '16.5',\n",
       " '17',\n",
       " '17.5',\n",
       " '18',\n",
       " '18.1',\n",
       " '18.2',\n",
       " '18.3',\n",
       " '18.4',\n",
       " '18.5',\n",
       " '18.6',\n",
       " '18.7',\n",
       " '18.8',\n",
       " '18.9',\n",
       " '19',\n",
       " '19.1',\n",
       " '19.2',\n",
       " '19.3',\n",
       " '19.5',\n",
       " '19.6',\n",
       " '19.7',\n",
       " '19.8',\n",
       " '19.9',\n",
       " '20',\n",
       " '20.2',\n",
       " '20.4',\n",
       " '20.6',\n",
       " '20.8',\n",
       " '21',\n",
       " '21.2',\n",
       " '21.4',\n",
       " '21.6',\n",
       " '21.8',\n",
       " '22',\n",
       " '22.2',\n",
       " '22.4',\n",
       " '22.6',\n",
       " '22.8',\n",
       " '23',\n",
       " '23.5',\n",
       " '24',\n",
       " '24.5',\n",
       " '25']"
      ]
     },
     "execution_count": 34,
     "metadata": {},
     "output_type": "execute_result"
    }
   ],
   "source": [
    "data[0]"
   ]
  },
  {
   "cell_type": "code",
   "execution_count": null,
   "id": "5d3955ce",
   "metadata": {},
   "outputs": [],
   "source": []
  }
 ],
 "metadata": {
  "kernelspec": {
   "display_name": "Python 3 (ipykernel)",
   "language": "python",
   "name": "python3"
  },
  "language_info": {
   "codemirror_mode": {
    "name": "ipython",
    "version": 3
   },
   "file_extension": ".py",
   "mimetype": "text/x-python",
   "name": "python",
   "nbconvert_exporter": "python",
   "pygments_lexer": "ipython3",
   "version": "3.10.6"
  }
 },
 "nbformat": 4,
 "nbformat_minor": 5
}
