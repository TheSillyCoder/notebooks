{
 "cells": [
  {
   "cell_type": "code",
   "execution_count": 1,
   "id": "6bc844f4",
   "metadata": {},
   "outputs": [],
   "source": [
    "import numpy as np"
   ]
  },
  {
   "cell_type": "code",
   "execution_count": 4,
   "id": "5e8e3aef",
   "metadata": {},
   "outputs": [],
   "source": [
    "m = np.matrix(\n",
    "    [[4, 1, -1],\n",
    "    [2, 5, -2],\n",
    "    [1, 1, 2]]\n",
    ")"
   ]
  },
  {
   "cell_type": "code",
   "execution_count": 11,
   "id": "705b51da",
   "metadata": {},
   "outputs": [],
   "source": [
    "evals, evectors = np.linalg.eig(m)"
   ]
  },
  {
   "cell_type": "code",
   "execution_count": 13,
   "id": "269639bd",
   "metadata": {},
   "outputs": [
    {
     "data": {
      "text/plain": [
       "array([5., 3., 3.])"
      ]
     },
     "execution_count": 13,
     "metadata": {},
     "output_type": "execute_result"
    }
   ],
   "source": [
    "evals"
   ]
  },
  {
   "cell_type": "code",
   "execution_count": null,
   "id": "e9c9df49",
   "metadata": {},
   "outputs": [],
   "source": []
  }
 ],
 "metadata": {
  "kernelspec": {
   "display_name": "Python 3 (ipykernel)",
   "language": "python",
   "name": "python3"
  },
  "language_info": {
   "codemirror_mode": {
    "name": "ipython",
    "version": 3
   },
   "file_extension": ".py",
   "mimetype": "text/x-python",
   "name": "python",
   "nbconvert_exporter": "python",
   "pygments_lexer": "ipython3",
   "version": "3.10.6"
  }
 },
 "nbformat": 4,
 "nbformat_minor": 5
}
