{
 "cells": [
  {
   "cell_type": "code",
   "execution_count": 1,
   "id": "63fd4009",
   "metadata": {},
   "outputs": [],
   "source": [
    "import numpy as np"
   ]
  },
  {
   "cell_type": "code",
   "execution_count": 2,
   "id": "da0a3401",
   "metadata": {},
   "outputs": [],
   "source": [
    "fh = open(\"newtons-rings-data.txt\", \"r\")\n",
    "data = fh.read().splitlines()\n",
    "data = np.array([np.array(list(map(float, row.split()))) for row in data])"
   ]
  },
  {
   "cell_type": "code",
   "execution_count": 3,
   "id": "6dfc88aa",
   "metadata": {},
   "outputs": [],
   "source": [
    "m = 10\n",
    "wavl = 589e-9"
   ]
  },
  {
   "cell_type": "code",
   "execution_count": 4,
   "id": "75156695",
   "metadata": {},
   "outputs": [
    {
     "data": {
      "text/plain": [
       "array([1.54665535, 1.56805791, 1.55574597, 1.56589255, 1.55398981,\n",
       "       1.56040747, 1.58225806, 1.5381296 , 1.51330645, 1.55857385])"
      ]
     },
     "execution_count": 4,
     "metadata": {},
     "output_type": "execute_result"
    }
   ],
   "source": [
    "D = (data[:,3] - data[:,6])**2 / 1e6\n",
    "R = np.array([(D[i] - D[len(D)-m])/(4*(data[i,0] - m)*wavl) for i in range(len(D) - m)])\n",
    "R"
   ]
  },
  {
   "cell_type": "code",
   "execution_count": 5,
   "id": "3a247071",
   "metadata": {},
   "outputs": [
    {
     "name": "stdout",
     "output_type": "stream",
     "text": [
      "1.55\t0.02\n"
     ]
    }
   ],
   "source": [
    "print(f\"{np.average(R):.2f}\\t{np.std(R, ddof=1):.2f}\")"
   ]
  },
  {
   "cell_type": "markdown",
   "id": "dc01d84f",
   "metadata": {},
   "source": [
    "Hence the radius of curvature of the lens was obtained to be $(1.55 \\pm 0.02)$ m"
   ]
  }
 ],
 "metadata": {
  "kernelspec": {
   "display_name": "Python 3 (ipykernel)",
   "language": "python",
   "name": "python3"
  },
  "language_info": {
   "codemirror_mode": {
    "name": "ipython",
    "version": 3
   },
   "file_extension": ".py",
   "mimetype": "text/x-python",
   "name": "python",
   "nbconvert_exporter": "python",
   "pygments_lexer": "ipython3",
   "version": "3.11.4"
  }
 },
 "nbformat": 4,
 "nbformat_minor": 5
}
