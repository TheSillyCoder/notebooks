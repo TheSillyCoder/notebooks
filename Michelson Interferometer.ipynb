{
 "cells": [
  {
   "cell_type": "code",
   "execution_count": 1,
   "id": "a39928a1",
   "metadata": {},
   "outputs": [],
   "source": [
    "import numpy as np"
   ]
  },
  {
   "cell_type": "code",
   "execution_count": 2,
   "id": "d61b14ca",
   "metadata": {},
   "outputs": [],
   "source": [
    "fh = open(\"michelson_data.txt\", \"r\")\n",
    "data = np.array([np.array(list(map(int,line.split()))) for line in fh.read().splitlines()])\n",
    "avg_dat = np.array([np.append(data[i],np.average(data[i][1:])) for i in range(len(data[0:,]))])\n",
    "fh.close()"
   ]
  },
  {
   "cell_type": "markdown",
   "id": "a1540df0",
   "metadata": {},
   "source": [
    "### Apparatus\n",
    "A laser of wavelength 535 nm has been used in the interferometer, and the thickness of the glass slab used for measuring the refractive index is 1 mm."
   ]
  },
  {
   "cell_type": "code",
   "execution_count": 3,
   "id": "5f2a0c32",
   "metadata": {},
   "outputs": [],
   "source": [
    "t = 1e-3\n",
    "wv_l = 532e-9"
   ]
  },
  {
   "cell_type": "markdown",
   "id": "f4bab260",
   "metadata": {},
   "source": [
    "### Calculation of Refractive Index\n",
    "\n",
    "The refractive index can be caculated using the angle of incidence ($\\theta$) and the fringe shifts ($m$) using the following formula :\n",
    "$$\\boxed{n_g = \\cfrac{(1 - \\cos\\theta)\\left(1 - \\cfrac{m\\lambda}{2t}\\right)}{(1 - \\cos{\\theta}) - \\cfrac{m\\lambda}{2t}}}$$\n",
    "\n",
    "Where $t$ is the thickness of the glass slab used, and $\\lambda$ is the wavelength of the laser."
   ]
  },
  {
   "cell_type": "code",
   "execution_count": 4,
   "id": "3844af39",
   "metadata": {},
   "outputs": [
    {
     "data": {
      "text/plain": [
       "array([1.53069755, 1.56267252, 1.54153369, 1.50257991])"
      ]
     },
     "execution_count": 4,
     "metadata": {},
     "output_type": "execute_result"
    }
   ],
   "source": [
    "n_g = (1 - np.cos(avg_dat[:,11]*np.pi / 180))*(1 - ((avg_dat[:,0]*wv_l)/(2*t))) / ((1 - np.cos(avg_dat[:,11]*np.pi / 180)) - ((avg_dat[:,0]*wv_l)/(2*t)))\n",
    "n_g"
   ]
  },
  {
   "cell_type": "markdown",
   "id": "b2c3d665",
   "metadata": {},
   "source": [
    "### Calculated refractive index of glass for diffirent fringe shifts\n",
    "\n",
    "\n",
    "| Fringe Shifts| Avg. angle of incidence |Calculated refractive index|\n",
    "|:---:|:---:|:---:|\n",
    "| 20 | 10 | 1.53 |\n",
    "| 30 | 12 | 1.56 |\n",
    "| 40 | 14 | 1.54 |\n",
    "| 50 | 16 | 1.50 |"
   ]
  },
  {
   "cell_type": "code",
   "execution_count": 5,
   "id": "918a9bad",
   "metadata": {},
   "outputs": [
    {
     "name": "stdout",
     "output_type": "stream",
     "text": [
      "1.534370916711259 0.025009650683157074\n"
     ]
    }
   ],
   "source": [
    "print(np.average(n_g), np.std(n_g, ddof=1))"
   ]
  },
  {
   "cell_type": "markdown",
   "id": "42894e5e",
   "metadata": {},
   "source": [
    "The value of the refractive index of glass thus obtained is $\\boxed{1.53 \\pm 0.02}$\n",
    "\n",
    "### Maximum Permissible Error\n",
    "The maximum permissible error can be calculated as shown below.\n",
    "The refractive index $n_g$ is a function of $\\theta$. So, we can write \n",
    "\\begin{align*}\n",
    "&n_g = f(\\theta) \\\\ \n",
    "\\Rightarrow &\\boxed{\\delta n_g = \\left|\\cfrac{\\partial f}{\\partial \\theta}\\right|\\delta \\theta} \\tag{In Radians}\n",
    "\\end{align*}\n",
    "\n",
    "In our case, $\\boxed{\\delta \\theta = 2 \\text{ degrees } = \\cfrac{\\pi}{90} \\text{ radians }}$\n",
    "\n",
    "So, $\\boxed{\\delta n_g = \\cfrac{\\pi}{90}\\left|\\cfrac{\\partial f}{\\partial \\theta}\\right|}$"
   ]
  },
  {
   "cell_type": "code",
   "execution_count": 6,
   "id": "dd6e5b2a",
   "metadata": {},
   "outputs": [],
   "source": [
    "import sympy as smp\n",
    "from sympy import init_printing\n",
    "init_printing()\n",
    "the, m, lam, ts, x, y = smp.symbols(r\"\\theta m \\lambda t x y\")"
   ]
  },
  {
   "cell_type": "code",
   "execution_count": 7,
   "id": "5f9640be",
   "metadata": {},
   "outputs": [],
   "source": [
    "dtheta_degs = 2 # Least Count of the rotational stage\n",
    "f = x*y / (x + y - 1)"
   ]
  },
  {
   "cell_type": "code",
   "execution_count": 8,
   "id": "3b263d8c",
   "metadata": {},
   "outputs": [
    {
     "data": {
      "image/png": "[encoded data removed]",
      "text/latex": [
       "$\\displaystyle \\frac{\\left(1 - \\cos{\\left(\\theta \\right)}\\right) \\left(- \\frac{\\lambda m}{2 t} + 1\\right)}{- \\frac{\\lambda m}{2 t} - \\cos{\\left(\\theta \\right)} + 1}$"
      ],
      "text/plain": [
       "                  ⎛  \\lambda⋅m    ⎞\n",
       "(1 - cos(\\theta))⋅⎜- ───────── + 1⎟\n",
       "                  ⎝     2⋅t       ⎠\n",
       "───────────────────────────────────\n",
       "     \\lambda⋅m                     \n",
       "   - ───────── - cos(\\theta) + 1   \n",
       "        2⋅t                        "
      ]
     },
     "execution_count": 8,
     "metadata": {},
     "output_type": "execute_result"
    }
   ],
   "source": [
    "f = f.subs([(x,1-smp.cos(the)), (y, 1-m*lam/(2*ts))])\n",
    "f"
   ]
  },
  {
   "cell_type": "code",
   "execution_count": 9,
   "id": "47598000",
   "metadata": {},
   "outputs": [
    {
     "data": {
      "image/png": "[encoded data removed]",
      "text/latex": [
       "$\\displaystyle - \\frac{\\left(1 - \\cos{\\left(\\theta \\right)}\\right) \\left(- \\frac{\\lambda m}{2 t} + 1\\right) \\sin{\\left(\\theta \\right)}}{\\left(- \\frac{\\lambda m}{2 t} - \\cos{\\left(\\theta \\right)} + 1\\right)^{2}} + \\frac{\\left(- \\frac{\\lambda m}{2 t} + 1\\right) \\sin{\\left(\\theta \\right)}}{- \\frac{\\lambda m}{2 t} - \\cos{\\left(\\theta \\right)} + 1}$"
      ],
      "text/plain": [
       "                    ⎛  \\lambda⋅m    ⎞               ⎛  \\lambda⋅m    ⎞            \n",
       "  (1 - cos(\\theta))⋅⎜- ───────── + 1⎟⋅sin(\\theta)   ⎜- ───────── + 1⎟⋅sin(\\theta)\n",
       "                    ⎝     2⋅t       ⎠               ⎝     2⋅t       ⎠            \n",
       "- ─────────────────────────────────────────────── + ─────────────────────────────\n",
       "                                         2            \\lambda⋅m                  \n",
       "          ⎛  \\lambda⋅m                  ⎞           - ───────── - cos(\\theta) + 1\n",
       "          ⎜- ───────── - cos(\\theta) + 1⎟                2⋅t                     \n",
       "          ⎝     2⋅t                     ⎠                                        "
      ]
     },
     "execution_count": 9,
     "metadata": {},
     "output_type": "execute_result"
    }
   ],
   "source": [
    "df = smp.diff(f, the)\n",
    "df"
   ]
  },
  {
   "cell_type": "code",
   "execution_count": 10,
   "id": "595f1020",
   "metadata": {},
   "outputs": [
    {
     "data": {
      "image/png": "[encoded data removed]",
      "text/latex": [
       "$\\displaystyle \\frac{\\pi \\left|{\\frac{\\lambda m \\left(\\lambda m - 2 t\\right) \\sin{\\left(\\theta \\right)}}{\\left(\\lambda m + 2 t \\left(\\cos{\\left(\\theta \\right)} - 1\\right)\\right)^{2}}}\\right|}{90}$"
      ],
      "text/plain": [
       "  │\\lambda⋅m⋅(\\lambda⋅m - 2⋅t)⋅sin(\\theta)│\n",
       "π⋅│───────────────────────────────────────│\n",
       "  │                                     2 │\n",
       "  │  (\\lambda⋅m + 2⋅t⋅(cos(\\theta) - 1))  │\n",
       "───────────────────────────────────────────\n",
       "                     90                    "
      ]
     },
     "execution_count": 10,
     "metadata": {},
     "output_type": "execute_result"
    }
   ],
   "source": [
    "df = abs(df.simplify()*dtheta_degs*smp.pi / 180)\n",
    "df"
   ]
  },
  {
   "cell_type": "code",
   "execution_count": 11,
   "id": "314c441f",
   "metadata": {},
   "outputs": [],
   "source": [
    "df_f = smp.lambdify((the, m, lam, ts), df)"
   ]
  },
  {
   "cell_type": "code",
   "execution_count": 12,
   "id": "d5eb654a",
   "metadata": {},
   "outputs": [
    {
     "data": {
      "image/png": "[encoded data removed]",
      "text/latex": [
       "$\\displaystyle 0.329109627440216$"
      ],
      "text/plain": [
       "0.32910962744021555"
      ]
     },
     "execution_count": 12,
     "metadata": {},
     "output_type": "execute_result"
    }
   ],
   "source": [
    "max(df_f(avg_dat[:,11]*np.pi / 180, avg_dat[:,0], wv_l, t))"
   ]
  },
  {
   "cell_type": "markdown",
   "id": "38920b0b",
   "metadata": {},
   "source": [
    "Hence, the maximum possible error is 0.3"
   ]
  }
 ],
 "metadata": {
  "kernelspec": {
   "display_name": "Python 3 (ipykernel)",
   "language": "python",
   "name": "python3"
  },
  "language_info": {
   "codemirror_mode": {
    "name": "ipython",
    "version": 3
   },
   "file_extension": ".py",
   "mimetype": "text/x-python",
   "name": "python",
   "nbconvert_exporter": "python",
   "pygments_lexer": "ipython3",
   "version": "3.11.4"
  }
 },
 "nbformat": 4,
 "nbformat_minor": 5
}
